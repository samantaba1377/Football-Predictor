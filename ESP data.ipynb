{
 "cells": [
  {
   "cell_type": "code",
   "execution_count": 2,
   "id": "cc689bd5",
   "metadata": {},
   "outputs": [
    {
     "data": {
      "text/html": [
       "<pre style=\"white-space:pre;overflow-x:auto;line-height:normal;font-family:Menlo,'DejaVu Sans Mono',consolas,'Courier New',monospace\"><span style=\"color: #7fbfbf; text-decoration-color: #7fbfbf\">[10/26/22 09:52:04] </span><span style=\"color: #000080; text-decoration-color: #000080\">INFO    </span> No custom team name replacements found. You can configure these in       <a href=\"file://C:\\Users\\Saman\\anaconda3\\lib\\site-packages\\soccerdata\\_config.py\" target=\"_blank\"><span style=\"color: #7f7f7f; text-decoration-color: #7f7f7f\">_config.py</span></a><span style=\"color: #7f7f7f; text-decoration-color: #7f7f7f\">:</span><a href=\"file://C:\\Users\\Saman\\anaconda3\\lib\\site-packages\\soccerdata\\_config.py#85\" target=\"_blank\"><span style=\"color: #7f7f7f; text-decoration-color: #7f7f7f\">85</span></a>\n",
       "<span style=\"color: #7fbfbf; text-decoration-color: #7fbfbf\">                    </span>         C:\\Users\\Saman\\soccerdata\\config\\teamname_replacements.json.             <span style=\"color: #7f7f7f; text-decoration-color: #7f7f7f\">             </span>\n",
       "</pre>\n"
      ],
      "text/plain": [
       "\u001b[2;36m[10/26/22 09:52:04]\u001b[0m\u001b[2;36m \u001b[0m\u001b[34mINFO    \u001b[0m No custom team name replacements found. You can configure these in       \u001b]8;id=981423;file://C:\\Users\\Saman\\anaconda3\\lib\\site-packages\\soccerdata\\_config.py\u001b\\\u001b[2m_config.py\u001b[0m\u001b]8;;\u001b\\\u001b[2m:\u001b[0m\u001b]8;id=143496;file://C:\\Users\\Saman\\anaconda3\\lib\\site-packages\\soccerdata\\_config.py#85\u001b\\\u001b[2m85\u001b[0m\u001b]8;;\u001b\\\n",
       "\u001b[2;36m                    \u001b[0m         C:\\Users\\Saman\\soccerdata\\config\\teamname_replacements.json.             \u001b[2m             \u001b[0m\n"
      ]
     },
     "metadata": {},
     "output_type": "display_data"
    },
    {
     "data": {
      "text/html": [
       "<pre style=\"white-space:pre;overflow-x:auto;line-height:normal;font-family:Menlo,'DejaVu Sans Mono',consolas,'Courier New',monospace\"><span style=\"color: #7fbfbf; text-decoration-color: #7fbfbf\">                    </span><span style=\"color: #000080; text-decoration-color: #000080\">INFO    </span> No custom league dict found. You can configure additional leagues in    <a href=\"file://C:\\Users\\Saman\\anaconda3\\lib\\site-packages\\soccerdata\\_config.py\" target=\"_blank\"><span style=\"color: #7f7f7f; text-decoration-color: #7f7f7f\">_config.py</span></a><span style=\"color: #7f7f7f; text-decoration-color: #7f7f7f\">:</span><a href=\"file://C:\\Users\\Saman\\anaconda3\\lib\\site-packages\\soccerdata\\_config.py#155\" target=\"_blank\"><span style=\"color: #7f7f7f; text-decoration-color: #7f7f7f\">155</span></a>\n",
       "<span style=\"color: #7fbfbf; text-decoration-color: #7fbfbf\">                    </span>         C:\\Users\\Saman\\soccerdata\\config\\league_dict.json.                      <span style=\"color: #7f7f7f; text-decoration-color: #7f7f7f\">              </span>\n",
       "</pre>\n"
      ],
      "text/plain": [
       "\u001b[2;36m                   \u001b[0m\u001b[2;36m \u001b[0m\u001b[34mINFO    \u001b[0m No custom league dict found. You can configure additional leagues in    \u001b]8;id=383162;file://C:\\Users\\Saman\\anaconda3\\lib\\site-packages\\soccerdata\\_config.py\u001b\\\u001b[2m_config.py\u001b[0m\u001b]8;;\u001b\\\u001b[2m:\u001b[0m\u001b]8;id=606070;file://C:\\Users\\Saman\\anaconda3\\lib\\site-packages\\soccerdata\\_config.py#155\u001b\\\u001b[2m155\u001b[0m\u001b]8;;\u001b\\\n",
       "\u001b[2;36m                    \u001b[0m         C:\\Users\\Saman\\soccerdata\\config\\league_dict.json.                      \u001b[2m              \u001b[0m\n"
      ]
     },
     "metadata": {},
     "output_type": "display_data"
    }
   ],
   "source": [
    "import numpy as np\n",
    "import soccerdata as sd\n",
    "from datetime import datetime\n",
    "import pandas as pd\n",
    "import matplotlib.pyplot as plt\n",
    "import json"
   ]
  },
  {
   "cell_type": "code",
   "execution_count": 4,
   "id": "abe92133",
   "metadata": {},
   "outputs": [
    {
     "data": {
      "text/html": [
       "<pre style=\"white-space:pre;overflow-x:auto;line-height:normal;font-family:Menlo,'DejaVu Sans Mono',consolas,'Courier New',monospace\"><span style=\"color: #7fbfbf; text-decoration-color: #7fbfbf\">[10/26/22 09:53:09] </span><span style=\"color: #000080; text-decoration-color: #000080\">INFO    </span> Saving cached data to C:\\Users\\Saman\\soccerdata\\data\\ClubElo             <a href=\"file://C:\\Users\\Saman\\anaconda3\\lib\\site-packages\\soccerdata\\_common.py\" target=\"_blank\"><span style=\"color: #7f7f7f; text-decoration-color: #7f7f7f\">_common.py</span></a><span style=\"color: #7f7f7f; text-decoration-color: #7f7f7f\">:</span><a href=\"file://C:\\Users\\Saman\\anaconda3\\lib\\site-packages\\soccerdata\\_common.py#89\" target=\"_blank\"><span style=\"color: #7f7f7f; text-decoration-color: #7f7f7f\">89</span></a>\n",
       "</pre>\n"
      ],
      "text/plain": [
       "\u001b[2;36m[10/26/22 09:53:09]\u001b[0m\u001b[2;36m \u001b[0m\u001b[34mINFO    \u001b[0m Saving cached data to C:\\Users\\Saman\\soccerdata\\data\\ClubElo             \u001b]8;id=794471;file://C:\\Users\\Saman\\anaconda3\\lib\\site-packages\\soccerdata\\_common.py\u001b\\\u001b[2m_common.py\u001b[0m\u001b]8;;\u001b\\\u001b[2m:\u001b[0m\u001b]8;id=552990;file://C:\\Users\\Saman\\anaconda3\\lib\\site-packages\\soccerdata\\_common.py#89\u001b\\\u001b[2m89\u001b[0m\u001b]8;;\u001b\\\n"
      ]
     },
     "metadata": {},
     "output_type": "display_data"
    },
    {
     "data": {
      "text/html": [
       "<div>\n",
       "<style scoped>\n",
       "    .dataframe tbody tr th:only-of-type {\n",
       "        vertical-align: middle;\n",
       "    }\n",
       "\n",
       "    .dataframe tbody tr th {\n",
       "        vertical-align: top;\n",
       "    }\n",
       "\n",
       "    .dataframe thead th {\n",
       "        text-align: right;\n",
       "    }\n",
       "</style>\n",
       "<table border=\"1\" class=\"dataframe\">\n",
       "  <thead>\n",
       "    <tr style=\"text-align: right;\">\n",
       "      <th></th>\n",
       "      <th>rank</th>\n",
       "      <th>country</th>\n",
       "      <th>level</th>\n",
       "      <th>elo</th>\n",
       "      <th>from</th>\n",
       "      <th>to</th>\n",
       "      <th>league</th>\n",
       "    </tr>\n",
       "    <tr>\n",
       "      <th>team</th>\n",
       "      <th></th>\n",
       "      <th></th>\n",
       "      <th></th>\n",
       "      <th></th>\n",
       "      <th></th>\n",
       "      <th></th>\n",
       "      <th></th>\n",
       "    </tr>\n",
       "  </thead>\n",
       "  <tbody>\n",
       "    <tr>\n",
       "      <th>Man City</th>\n",
       "      <td>1.0</td>\n",
       "      <td>ENG</td>\n",
       "      <td>1</td>\n",
       "      <td>2037.803833</td>\n",
       "      <td>2022-10-26</td>\n",
       "      <td>2022-10-29</td>\n",
       "      <td>ENG-Premier League</td>\n",
       "    </tr>\n",
       "    <tr>\n",
       "      <th>Real Madrid</th>\n",
       "      <td>2.0</td>\n",
       "      <td>ESP</td>\n",
       "      <td>1</td>\n",
       "      <td>2001.127319</td>\n",
       "      <td>2022-10-26</td>\n",
       "      <td>2022-10-30</td>\n",
       "      <td>ESP-La Liga</td>\n",
       "    </tr>\n",
       "    <tr>\n",
       "      <th>Liverpool</th>\n",
       "      <td>3.0</td>\n",
       "      <td>ENG</td>\n",
       "      <td>1</td>\n",
       "      <td>1984.683105</td>\n",
       "      <td>2022-10-23</td>\n",
       "      <td>2022-10-26</td>\n",
       "      <td>ENG-Premier League</td>\n",
       "    </tr>\n",
       "    <tr>\n",
       "      <th>Bayern</th>\n",
       "      <td>4.0</td>\n",
       "      <td>GER</td>\n",
       "      <td>1</td>\n",
       "      <td>1970.814697</td>\n",
       "      <td>2022-10-23</td>\n",
       "      <td>2022-10-26</td>\n",
       "      <td>GER-Bundesliga</td>\n",
       "    </tr>\n",
       "    <tr>\n",
       "      <th>Arsenal</th>\n",
       "      <td>5.0</td>\n",
       "      <td>ENG</td>\n",
       "      <td>1</td>\n",
       "      <td>1911.506714</td>\n",
       "      <td>2022-10-24</td>\n",
       "      <td>2022-10-27</td>\n",
       "      <td>ENG-Premier League</td>\n",
       "    </tr>\n",
       "  </tbody>\n",
       "</table>\n",
       "</div>"
      ],
      "text/plain": [
       "             rank country  level          elo       from         to  \\\n",
       "team                                                                  \n",
       "Man City      1.0     ENG      1  2037.803833 2022-10-26 2022-10-29   \n",
       "Real Madrid   2.0     ESP      1  2001.127319 2022-10-26 2022-10-30   \n",
       "Liverpool     3.0     ENG      1  1984.683105 2022-10-23 2022-10-26   \n",
       "Bayern        4.0     GER      1  1970.814697 2022-10-23 2022-10-26   \n",
       "Arsenal       5.0     ENG      1  1911.506714 2022-10-24 2022-10-27   \n",
       "\n",
       "                         league  \n",
       "team                             \n",
       "Man City     ENG-Premier League  \n",
       "Real Madrid         ESP-La Liga  \n",
       "Liverpool    ENG-Premier League  \n",
       "Bayern           GER-Bundesliga  \n",
       "Arsenal      ENG-Premier League  "
      ]
     },
     "execution_count": 4,
     "metadata": {},
     "output_type": "execute_result"
    }
   ],
   "source": [
    "elo = sd.ClubElo()\n",
    "current_elo = elo.read_by_date()\n",
    "current_elo.head()"
   ]
  },
  {
   "cell_type": "code",
   "execution_count": 23,
   "id": "19032c97",
   "metadata": {},
   "outputs": [
    {
     "data": {
      "text/html": [
       "<pre style=\"white-space:pre;overflow-x:auto;line-height:normal;font-family:Menlo,'DejaVu Sans Mono',consolas,'Courier New',monospace\"><span style=\"color: #7fbfbf; text-decoration-color: #7fbfbf\">[10/26/22 09:56:48] </span><span style=\"color: #000080; text-decoration-color: #000080\">INFO    </span> Saving cached data to C:\\Users\\Saman\\soccerdata\\data\\FiveThirtyEight     <a href=\"file://C:\\Users\\Saman\\anaconda3\\lib\\site-packages\\soccerdata\\_common.py\" target=\"_blank\"><span style=\"color: #7f7f7f; text-decoration-color: #7f7f7f\">_common.py</span></a><span style=\"color: #7f7f7f; text-decoration-color: #7f7f7f\">:</span><a href=\"file://C:\\Users\\Saman\\anaconda3\\lib\\site-packages\\soccerdata\\_common.py#89\" target=\"_blank\"><span style=\"color: #7f7f7f; text-decoration-color: #7f7f7f\">89</span></a>\n",
       "</pre>\n"
      ],
      "text/plain": [
       "\u001b[2;36m[10/26/22 09:56:48]\u001b[0m\u001b[2;36m \u001b[0m\u001b[34mINFO    \u001b[0m Saving cached data to C:\\Users\\Saman\\soccerdata\\data\\FiveThirtyEight     \u001b]8;id=646159;file://C:\\Users\\Saman\\anaconda3\\lib\\site-packages\\soccerdata\\_common.py\u001b\\\u001b[2m_common.py\u001b[0m\u001b]8;;\u001b\\\u001b[2m:\u001b[0m\u001b]8;id=154937;file://C:\\Users\\Saman\\anaconda3\\lib\\site-packages\\soccerdata\\_common.py#89\u001b\\\u001b[2m89\u001b[0m\u001b]8;;\u001b\\\n"
      ]
     },
     "metadata": {},
     "output_type": "display_data"
    }
   ],
   "source": [
    "#season_list = [str(i) for i in range(2016,2020)]\n",
    "season_list = season_list = [str(i) for i in range(2016,2020)]\n",
    "five38 = sd.FiveThirtyEight('ESP-La Liga', season_list)\n",
    "games = five38.read_games()"
   ]
  },
  {
   "cell_type": "code",
   "execution_count": 26,
   "id": "a9dfc4be",
   "metadata": {},
   "outputs": [],
   "source": [
    "i = 0\n",
    "GameDates = list(games['date'].values)\n",
    "GameDates = pd.to_datetime(GameDates)\n",
    "current_elo = elo.read_by_date(i)\n",
    "current_elo = elo.read_by_date(pd.to_datetime(list(games['date'].values)[0]).date())"
   ]
  },
  {
   "cell_type": "code",
   "execution_count": 106,
   "id": "003c9f3f",
   "metadata": {},
   "outputs": [],
   "source": [
    "def elo_retriever(date,home_team,away_team):\n",
    "    #query for current elo\n",
    "    #current_elo = elo.read_by_date(pd.to_datetime(list(games['date'].values)[0]).date())\n",
    "    current_elo = elo.read_by_date(date)\n",
    "    #Try and check if the team is in the wrong name list\n",
    "    name_dict = {'Deportivo La Coruña':'Depor','Málaga':'Malaga','Real Betis':'Betis','Sevilla FC':'Sevilla','Atletico Madrid':'Atletico','Alavés':'Alaves','Real Sociedad':'Sociedad','Sporting Gijón':'Gijon','Athletic Bilbao':'Bilbao','Celta Vigo':'Celta','Girona FC':'Girona','Real Valladolid':'Valladolid','SD Huesca':'Huesca'}\n",
    "    if home_team in name_dict.keys():\n",
    "        home_team = name_dict[home_team]\n",
    "    if away_team in name_dict.keys():\n",
    "        away_team = name_dict[away_team]\n",
    "    #adapt to situation\n",
    "    home_elo = current_elo.loc[home_team]['elo']\n",
    "    away_elo = current_elo.loc[away_team]['elo']\n",
    "    #elos list\n",
    "    elo_dict = {'home_team':home_elo,'away_team':away_elo}\n",
    "    return elo_dict"
   ]
  },
  {
   "cell_type": "code",
   "execution_count": 107,
   "id": "17a3f82a",
   "metadata": {},
   "outputs": [
    {
     "data": {
      "text/plain": [
       "league       season  game                                 \n",
       "ESP-La Liga  1617    2016-08-19 Deportivo La Coruña-Eibar     2016-08-19\n",
       "                     2016-08-19 Málaga-Osasuna                2016-08-19\n",
       "                     2016-08-20 Barcelona-Real Betis          2016-08-20\n",
       "                     2016-08-20 Granada-Villarreal            2016-08-20\n",
       "                     2016-08-20 Sevilla FC-Espanyol           2016-08-20\n",
       "                                                                 ...    \n",
       "             1920    2020-07-19 Levante-Getafe                2020-07-19\n",
       "                     2020-07-19 Osasuna-Mallorca              2020-07-19\n",
       "                     2020-07-19 Real Valladolid-Real Betis    2020-07-19\n",
       "                     2020-07-19 Sevilla FC-Valencia           2020-07-19\n",
       "                     2020-07-19 Villarreal-Eibar              2020-07-19\n",
       "Name: date, Length: 1520, dtype: object"
      ]
     },
     "execution_count": 107,
     "metadata": {},
     "output_type": "execute_result"
    }
   ],
   "source": [
    "games['date'].dt.date"
   ]
  },
  {
   "cell_type": "code",
   "execution_count": 108,
   "id": "c73f9949",
   "metadata": {},
   "outputs": [],
   "source": [
    "def result_match(date_calendar,home_team,away_team):\n",
    "    #re-write date\n",
    "    home_score = games[(games['date'].dt.date == date_calendar ) & (games['away_team'] == away_team) & (games['home_team'] == home_team)]['score_home']\n",
    "    away_score = games[(games['date'].dt.date == date_calendar ) & (games['away_team'] == away_team) & (games['home_team'] == home_team)]['score_away']\n",
    "    #compute difference\n",
    "    dif = home_score - away_score\n",
    "    dif = dif.values[0]\n",
    "    #by default, result is draw\n",
    "    res = 'D'\n",
    "    if dif > 0:\n",
    "        res = 'W'\n",
    "    elif dif < 0:\n",
    "        res = 'L'\n",
    "    return res"
   ]
  },
  {
   "cell_type": "code",
   "execution_count": 109,
   "id": "2851e41e",
   "metadata": {},
   "outputs": [],
   "source": [
    "GameDates = list(games['date'].values)\n",
    "GameDates = pd.to_datetime(GameDates)\n",
    "GameTeamHome = list(games['home_team'].values)\n",
    "GameTeamAway = list(games['away_team'].values)"
   ]
  },
  {
   "cell_type": "code",
   "execution_count": 110,
   "id": "8c3048e7",
   "metadata": {},
   "outputs": [],
   "source": [
    "home_elos = []\n",
    "away_elos = []\n",
    "result = []\n",
    "for i in range(0,len(GameDates)):\n",
    "    date_i = GameDates[i]\n",
    "    date_2_i = date_i.date()\n",
    "    home_i = GameTeamHome[i]\n",
    "    away_i = GameTeamAway[i]\n",
    "    elo_i = elo_retriever(date_i,home_i,away_i)\n",
    "    home_elos.append(elo_i['home_team'])\n",
    "    away_elos.append(elo_i['away_team'])\n",
    "    result.append(result_match(date_2_i,home_i,away_i))"
   ]
  },
  {
   "cell_type": "code",
   "execution_count": 116,
   "id": "adf6ae23",
   "metadata": {},
   "outputs": [],
   "source": [
    "df=pd.DataFrame(data={'Result':result,'Home_Elo':home_elos,'Away_Elo':away_elos})\n",
    "df.to_csv('/Users/Saman/OneDrive/Desktop/ESP-League-2016-2020.csv')"
   ]
  },
  {
   "cell_type": "code",
   "execution_count": null,
   "id": "885c35d3",
   "metadata": {},
   "outputs": [],
   "source": []
  }
 ],
 "metadata": {
  "kernelspec": {
   "display_name": "Python 3",
   "language": "python",
   "name": "python3"
  },
  "language_info": {
   "codemirror_mode": {
    "name": "ipython",
    "version": 3
   },
   "file_extension": ".py",
   "mimetype": "text/x-python",
   "name": "python",
   "nbconvert_exporter": "python",
   "pygments_lexer": "ipython3",
   "version": "3.8.8"
  }
 },
 "nbformat": 4,
 "nbformat_minor": 5
}
