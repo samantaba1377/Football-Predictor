{
 "cells": [
  {
   "cell_type": "code",
   "execution_count": 1,
   "id": "0c24954a",
   "metadata": {},
   "outputs": [
    {
     "data": {
      "text/html": [
       "<pre style=\"white-space:pre;overflow-x:auto;line-height:normal;font-family:Menlo,'DejaVu Sans Mono',consolas,'Courier New',monospace\"><span style=\"color: #7fbfbf; text-decoration-color: #7fbfbf\">[12/01/22 13:56:45] </span><span style=\"color: #000080; text-decoration-color: #000080\">INFO    </span> No custom team name replacements found. You can configure these in       <a href=\"file:///Users/selbl/opt/anaconda3/lib/python3.8/site-packages/soccerdata/_config.py\" target=\"_blank\"><span style=\"color: #7f7f7f; text-decoration-color: #7f7f7f\">_config.py</span></a><span style=\"color: #7f7f7f; text-decoration-color: #7f7f7f\">:</span><a href=\"file:///Users/selbl/opt/anaconda3/lib/python3.8/site-packages/soccerdata/_config.py#85\" target=\"_blank\"><span style=\"color: #7f7f7f; text-decoration-color: #7f7f7f\">85</span></a>\n",
       "<span style=\"color: #7fbfbf; text-decoration-color: #7fbfbf\">                    </span>         <span style=\"color: #800080; text-decoration-color: #800080\">/Users/selbl/soccerdata/config/</span><span style=\"color: #ff00ff; text-decoration-color: #ff00ff\">teamname_replacements.json.</span>               <span style=\"color: #7f7f7f; text-decoration-color: #7f7f7f\">             </span>\n",
       "</pre>\n"
      ],
      "text/plain": [
       "\u001b[2;36m[12/01/22 13:56:45]\u001b[0m\u001b[2;36m \u001b[0m\u001b[34mINFO    \u001b[0m No custom team name replacements found. You can configure these in       \u001b]8;id=926862;file:///Users/selbl/opt/anaconda3/lib/python3.8/site-packages/soccerdata/_config.py\u001b\\\u001b[2m_config.py\u001b[0m\u001b]8;;\u001b\\\u001b[2m:\u001b[0m\u001b]8;id=648299;file:///Users/selbl/opt/anaconda3/lib/python3.8/site-packages/soccerdata/_config.py#85\u001b\\\u001b[2m85\u001b[0m\u001b]8;;\u001b\\\n",
       "\u001b[2;36m                    \u001b[0m         \u001b[35m/Users/selbl/soccerdata/config/\u001b[0m\u001b[95mteamname_replacements.json.\u001b[0m               \u001b[2m             \u001b[0m\n"
      ]
     },
     "metadata": {},
     "output_type": "display_data"
    },
    {
     "data": {
      "text/html": [
       "<pre style=\"white-space:pre;overflow-x:auto;line-height:normal;font-family:Menlo,'DejaVu Sans Mono',consolas,'Courier New',monospace\"><span style=\"color: #7fbfbf; text-decoration-color: #7fbfbf\">                    </span><span style=\"color: #000080; text-decoration-color: #000080\">INFO    </span> No custom league dict found. You can configure additional leagues in    <a href=\"file:///Users/selbl/opt/anaconda3/lib/python3.8/site-packages/soccerdata/_config.py\" target=\"_blank\"><span style=\"color: #7f7f7f; text-decoration-color: #7f7f7f\">_config.py</span></a><span style=\"color: #7f7f7f; text-decoration-color: #7f7f7f\">:</span><a href=\"file:///Users/selbl/opt/anaconda3/lib/python3.8/site-packages/soccerdata/_config.py#155\" target=\"_blank\"><span style=\"color: #7f7f7f; text-decoration-color: #7f7f7f\">155</span></a>\n",
       "<span style=\"color: #7fbfbf; text-decoration-color: #7fbfbf\">                    </span>         <span style=\"color: #800080; text-decoration-color: #800080\">/Users/selbl/soccerdata/config/</span><span style=\"color: #ff00ff; text-decoration-color: #ff00ff\">league_dict.json.</span>                        <span style=\"color: #7f7f7f; text-decoration-color: #7f7f7f\">              </span>\n",
       "</pre>\n"
      ],
      "text/plain": [
       "\u001b[2;36m                   \u001b[0m\u001b[2;36m \u001b[0m\u001b[34mINFO    \u001b[0m No custom league dict found. You can configure additional leagues in    \u001b]8;id=697714;file:///Users/selbl/opt/anaconda3/lib/python3.8/site-packages/soccerdata/_config.py\u001b\\\u001b[2m_config.py\u001b[0m\u001b]8;;\u001b\\\u001b[2m:\u001b[0m\u001b]8;id=52849;file:///Users/selbl/opt/anaconda3/lib/python3.8/site-packages/soccerdata/_config.py#155\u001b\\\u001b[2m155\u001b[0m\u001b]8;;\u001b\\\n",
       "\u001b[2;36m                    \u001b[0m         \u001b[35m/Users/selbl/soccerdata/config/\u001b[0m\u001b[95mleague_dict.json.\u001b[0m                        \u001b[2m              \u001b[0m\n"
      ]
     },
     "metadata": {},
     "output_type": "display_data"
    }
   ],
   "source": [
    "import pandas as pd\n",
    "import numpy as np\n",
    "import copy\n",
    "import matplotlib.pyplot as plt\n",
    "import h5py\n",
    "import scipy\n",
    "import soccerdata as sd\n",
    "\n",
    "%matplotlib inline\n",
    "%load_ext autoreload\n",
    "%autoreload 2"
   ]
  },
  {
   "cell_type": "code",
   "execution_count": 2,
   "id": "5a546c49",
   "metadata": {},
   "outputs": [],
   "source": [
    "#Find path of each data files\n",
    "#eng_path = '/Users/selbl/Desktop/PhD/Second Year/First Quarter/CS 230/Project/Data/ENG-League-2016-2020.csv'\n",
    "#esp_path = '/Users/selbl/Desktop/PhD/Second Year/First Quarter/CS 230/Project/Data/ESP-League-2016-2020.csv'\n",
    "##fra_path = '/Users/selbl/Desktop/PhD/Second Year/First Quarter/CS 230/Project/Data/FRA-League-2016-2020.csv'\n",
    "#ger_path = '/Users/selbl/Desktop/PhD/Second Year/First Quarter/CS 230/Project/Data/GER-League-2016-2020.csv'\n",
    "#ita_path = '/Users/selbl/Desktop/PhD/Second Year/First Quarter/CS 230/Project/Data/ITA-League-2016-2020.csv'\n",
    "mult_path = '/Users/selbl/Desktop/PhD/Second Year/First Quarter/CS 230/Project/Data/SangElos.csv'\n",
    "#test_path =  '/Users/selbl/Desktop/PhD/Second Year/First Quarter/CS 230/Project/Data/ENG-League-2020-2021.csv'\n",
    "#Read each dataframe\n",
    "#df_eng = pd.read_csv(eng_path)\n",
    "#df_esp = pd.read_csv(esp_path)\n",
    "#df_fra = pd.read_csv(fra_path)\n",
    "#df_ger = pd.read_csv(ger_path)\n",
    "#df_ita = pd.read_csv(ita_path)\n",
    "df_mult = pd.read_csv(mult_path)\n",
    "#Combine\n",
    "#df = [df_eng, df_esp, df_fra,df_ger,df_ita,df_mult]\n",
    "#df_train = pd.concat(df)\n",
    "df_train = df_mult[0:9303]\n",
    "#Get test data\n",
    "#df_test = pd.read_csv(test_path)\n",
    "df_dev = df_mult[9304:9304+1690]\n",
    "df_test = df_mult[9304+1691:len(df_mult)]"
   ]
  },
  {
   "cell_type": "code",
   "execution_count": 4,
   "id": "4bd72461",
   "metadata": {},
   "outputs": [],
   "source": [
    "#Prepare databases as arrays\n",
    "X_Train = np.array(df_train[['Home_Elo','Away_Elo']]).T\n",
    "X_Dev = np.array(df_dev[['Home_Elo','Away_Elo']]).T\n",
    "X_Test = np.array(df_test[['Home_Elo','Away_Elo']]).T"
   ]
  },
  {
   "cell_type": "code",
   "execution_count": 5,
   "id": "a7013e4b",
   "metadata": {},
   "outputs": [],
   "source": [
    "#Pre-Process Y\n",
    "Y_Train = np.array(df_train['Result'])\n",
    "Y_Train.reshape(1,len(Y_Train))\n",
    "Y_Train = np.where(Y_Train == 'W',1,np.where(Y_Train=='L',0,2))\n",
    "#Same for dev\n",
    "Y_Dev = np.array(df_dev['Result'])\n",
    "Y_Dev.reshape(1,len(Y_Dev))\n",
    "Y_Dev = np.where(Y_Dev == 'W',1,np.where(Y_Dev=='L',0,2))\n",
    "#Same for test\n",
    "Y_Test = np.array(df_test['Result'])\n",
    "Y_Test.reshape(1,len(Y_Test))\n",
    "Y_Test = np.where(Y_Test == 'W',1,np.where(Y_Test=='L',0,2))"
   ]
  },
  {
   "cell_type": "code",
   "execution_count": 6,
   "id": "98b445be",
   "metadata": {},
   "outputs": [],
   "source": [
    "#Define softmax\n",
    "def softmax(z):\n",
    "    \n",
    "    # z--> linear part.\n",
    "    \n",
    "    # subtracting the max of z for numerical stability.\n",
    "    exp = np.exp(z - np.max(z))\n",
    "    \n",
    "    # Calculating softmax for all examples.\n",
    "    for i in range(len(z)):\n",
    "        exp[i] /= np.sum(exp[i])\n",
    "        \n",
    "    return exp"
   ]
  },
  {
   "cell_type": "code",
   "execution_count": 7,
   "id": "efd860de",
   "metadata": {},
   "outputs": [],
   "source": [
    "def one_hot(y, c):\n",
    "    \n",
    "    # y--> label/ground truth.\n",
    "    # c--> Number of classes.\n",
    "    \n",
    "    # A zero matrix of size (m, c)\n",
    "    y_hot = np.zeros((len(y), c))\n",
    "    \n",
    "    # Putting 1 for column where the label is,\n",
    "    # Using multidimensional indexing.\n",
    "    y_hot[np.arange(len(y)), y] = 1\n",
    "    \n",
    "    return y_hot"
   ]
  },
  {
   "cell_type": "code",
   "execution_count": 8,
   "id": "644d15c2",
   "metadata": {},
   "outputs": [],
   "source": [
    "def leakyRelu(z):\n",
    "    ret = max([z,0.001*z])\n",
    "    return ret"
   ]
  },
  {
   "cell_type": "code",
   "execution_count": 12,
   "id": "ee6719cf",
   "metadata": {},
   "outputs": [],
   "source": [
    "#Define fit\n",
    "def fit(X, y, lr, c, epochs):\n",
    "    \n",
    "    # X --> Input.\n",
    "    # y --> true/target value.\n",
    "    # lr --> Learning rate.\n",
    "    # c --> Number of classes.\n",
    "    # epochs --> Number of iterations.\n",
    "    \n",
    "        \n",
    "    # m-> number of training examples\n",
    "    # n-> number of features \n",
    "    m, n = X.shape\n",
    "    \n",
    "    #Normalize\n",
    "    #This is because for some reason things blow up if not\n",
    "    X = (X - np.mean(X))/(np.std(X))\n",
    "    \n",
    "    # Initializing weights and bias randomly.\n",
    "    w = np.random.randn(n, c)*0.001\n",
    "    b = np.random.randn(c)*0.001\n",
    "    # Empty list to store losses.\n",
    "    losses = []\n",
    "    \n",
    "    # Training loop.\n",
    "    for epoch in range(epochs):\n",
    "        \n",
    "        # Calculating hypothesis/prediction.\n",
    "        z = X@w + b\n",
    "        y_hat = softmax(z)\n",
    "        \n",
    "        # One-hot encoding y.\n",
    "        y_hot = one_hot(y, c)\n",
    "        #y_hot = y\n",
    "        \n",
    "        # Calculating the gradient of loss w.r.t w and b.\n",
    "        w_grad = (1/m)*np.dot(X.T, (y_hat - y_hot)) \n",
    "        b_grad = (1/m)*np.sum(y_hat - y_hot)\n",
    "        #w_grad = (1/m)*np.dot(X.T, (y - y_hot)) \n",
    "        #b_grad = (1/m)*np.sum(y - y_hot)\n",
    "        \n",
    "        # Updating the parameters.\n",
    "        w = w - lr*w_grad\n",
    "        b = b - lr*b_grad\n",
    "        \n",
    "        # Calculating loss and appending it in the list.\n",
    "        loss = -np.mean(np.log(y_hat[np.arange(len(y)), y]))\n",
    "        #loss = -np.mean(np.log(y_hat))\n",
    "        #loss = -np.mean(np.multiply(y,y_hat))\n",
    "        losses.append(loss)\n",
    "        # Printing out the loss at every 100th iteration.\n",
    "        if epoch%100==0:\n",
    "            print('Epoch {epoch}==> Loss = {loss}'\n",
    "                  .format(epoch=epoch, loss=loss))\n",
    "    return w, b, losses"
   ]
  },
  {
   "cell_type": "code",
   "execution_count": 25,
   "id": "c4b0d9fc",
   "metadata": {},
   "outputs": [
    {
     "name": "stdout",
     "output_type": "stream",
     "text": [
      "Epoch 0==> Loss = 1.0988734203862027\n",
      "Epoch 100==> Loss = 1.0251100527139747\n",
      "Epoch 200==> Loss = 1.0251100527139745\n",
      "Epoch 300==> Loss = 1.0251100527139747\n"
     ]
    }
   ],
   "source": [
    "#Fit\n",
    "w, b, l = fit(X_Train.T, Y_Train, lr=0.9, c=3, epochs=400)"
   ]
  },
  {
   "cell_type": "code",
   "execution_count": 29,
   "id": "6e47b732",
   "metadata": {},
   "outputs": [],
   "source": [
    "#Now, we set the criteria to evaluate model\n",
    "def predict(X, w, b):\n",
    "    \n",
    "    # X --> Input.\n",
    "    # w --> weights.\n",
    "    # b --> bias.\n",
    "    \n",
    "    # Predicting\n",
    "    z = X@w + b\n",
    "    y_hat = softmax(z)\n",
    "    #print(y_hat)\n",
    "    # Returning the class with highest probability.\n",
    "    return np.argmax(y_hat, axis=1)"
   ]
  },
  {
   "cell_type": "code",
   "execution_count": 27,
   "id": "ea850fa4",
   "metadata": {},
   "outputs": [],
   "source": [
    "def accuracy(y, y_hat):\n",
    "    return np.sum(y==y_hat)/len(y)"
   ]
  },
  {
   "cell_type": "code",
   "execution_count": 30,
   "id": "c7ce55f3",
   "metadata": {},
   "outputs": [
    {
     "name": "stdout",
     "output_type": "stream",
     "text": [
      "The accuracy for the train set is: 0.4692034827475008\n",
      "The accuracy for the dev set is: 0.4757396449704142\n",
      "The accuracy for the test set is: 0.4558436677940624\n"
     ]
    }
   ],
   "source": [
    "#Measurements\n",
    "# Accuracy for training set.\n",
    "train_preds = predict(X_Train.T, w, b)\n",
    "acc_train = accuracy(Y_Train, train_preds)\n",
    "print('The accuracy for the train set is: ' + str(acc_train))\n",
    "#Accuracy for dev set.\n",
    "dev_preds = predict(X_Dev.T, w, b)\n",
    "acc_dev = accuracy(Y_Dev, dev_preds)\n",
    "print('The accuracy for the dev set is: ' + str(acc_dev))\n",
    "# Accuracy for test set.\n",
    "# Flattening and normalizing.\n",
    "test_preds = predict(X_Test.T, w, b)\n",
    "acc_test = accuracy(Y_Test, test_preds)\n",
    "print('The accuracy for the test set is: ' + str(acc_test))"
   ]
  },
  {
   "cell_type": "code",
   "execution_count": 15,
   "id": "dd04ffae",
   "metadata": {},
   "outputs": [
    {
     "data": {
      "text/html": [
       "<pre style=\"white-space:pre;overflow-x:auto;line-height:normal;font-family:Menlo,'DejaVu Sans Mono',consolas,'Courier New',monospace\"><span style=\"color: #7fbfbf; text-decoration-color: #7fbfbf\">[11/29/22 09:17:33] </span><span style=\"color: #000080; text-decoration-color: #000080\">INFO    </span> Saving cached data to <span style=\"color: #800080; text-decoration-color: #800080\">/Users/selbl/soccerdata/data/</span><span style=\"color: #ff00ff; text-decoration-color: #ff00ff\">FiveThirtyEight</span>       <a href=\"file:///Users/selbl/opt/anaconda3/lib/python3.8/site-packages/soccerdata/_common.py\" target=\"_blank\"><span style=\"color: #7f7f7f; text-decoration-color: #7f7f7f\">_common.py</span></a><span style=\"color: #7f7f7f; text-decoration-color: #7f7f7f\">:</span><a href=\"file:///Users/selbl/opt/anaconda3/lib/python3.8/site-packages/soccerdata/_common.py#89\" target=\"_blank\"><span style=\"color: #7f7f7f; text-decoration-color: #7f7f7f\">89</span></a>\n",
       "</pre>\n"
      ],
      "text/plain": [
       "\u001b[2;36m[11/29/22 09:17:33]\u001b[0m\u001b[2;36m \u001b[0m\u001b[34mINFO    \u001b[0m Saving cached data to \u001b[35m/Users/selbl/soccerdata/data/\u001b[0m\u001b[95mFiveThirtyEight\u001b[0m       \u001b]8;id=919346;file:///Users/selbl/opt/anaconda3/lib/python3.8/site-packages/soccerdata/_common.py\u001b\\\u001b[2m_common.py\u001b[0m\u001b]8;;\u001b\\\u001b[2m:\u001b[0m\u001b]8;id=872330;file:///Users/selbl/opt/anaconda3/lib/python3.8/site-packages/soccerdata/_common.py#89\u001b\\\u001b[2m89\u001b[0m\u001b]8;;\u001b\\\n"
      ]
     },
     "metadata": {},
     "output_type": "display_data"
    }
   ],
   "source": [
    "#Compare with the other values from the value in SD\n",
    "#First import\n",
    "five38 = sd.FiveThirtyEight('ENG-Premier League', 2020)\n",
    "games = five38.read_games()"
   ]
  },
  {
   "cell_type": "code",
   "execution_count": 16,
   "id": "17e719ca",
   "metadata": {},
   "outputs": [],
   "source": [
    "#Then run the codes\n",
    "#This first function fetches the result by comparing the scores\n",
    "def Result(df):\n",
    "    #Create list for results\n",
    "    l_res = []\n",
    "    #Grab length\n",
    "    length = len(df)\n",
    "    for i in range(length):\n",
    "        s_h = df['score_home'].iloc[i]\n",
    "        s_a = df['score_away'].iloc[i]\n",
    "        if (s_h > s_a):\n",
    "            res = 'W'\n",
    "        elif (s_a > s_h):\n",
    "            res = 'L'\n",
    "        else:\n",
    "            res = 'D'\n",
    "        l_res.append(res)\n",
    "    return l_res\n",
    "\n",
    "#Apply it to our dataset\n",
    "res_true = Result(games)"
   ]
  },
  {
   "cell_type": "code",
   "execution_count": 17,
   "id": "9b1594f3",
   "metadata": {},
   "outputs": [],
   "source": [
    "#Now get the prediction\n",
    "def DBPredicts(df):\n",
    "    #Create list for results\n",
    "    l_res = []\n",
    "    #Grab length\n",
    "    length = len(df)\n",
    "    for i in range(length):\n",
    "        p_h = df['prob_home'].iloc[i]\n",
    "        p_a = df['prob_away'].iloc[i]\n",
    "        p_t = df['prob_tie'].iloc[i]\n",
    "        #assemble in list\n",
    "        l_p = [p_h,p_a,p_t]\n",
    "        #get max\n",
    "        m_p = max(l_p)\n",
    "        if m_p == p_h:\n",
    "            res = 'W'\n",
    "        elif m_p == p_a:\n",
    "            res = 'L'\n",
    "        else:\n",
    "            res = 'D'\n",
    "        l_res.append(res)\n",
    "    return l_res\n",
    "#res_preds\n",
    "res_preds = DBPredicts(games)"
   ]
  },
  {
   "cell_type": "code",
   "execution_count": 18,
   "id": "de225fbb",
   "metadata": {},
   "outputs": [
    {
     "name": "stdout",
     "output_type": "stream",
     "text": [
      "In the database, the predictions are 52.10526315789473% accurate\n"
     ]
    }
   ],
   "source": [
    "#Compare\n",
    "prob_db = sum(a == b for a,b in zip(res_preds, res_true))/len(res_true)\n",
    "print('In the database, the predictions are ' + str(prob_db*100) + '% accurate')"
   ]
  },
  {
   "cell_type": "code",
   "execution_count": 18,
   "id": "8461a84f",
   "metadata": {},
   "outputs": [
    {
     "name": "stdout",
     "output_type": "stream",
     "text": [
      "(2, 13656)\n",
      "(2, 380)\n"
     ]
    }
   ],
   "source": [
    "print(X_Train.shape)\n",
    "print(X_Test.shape)"
   ]
  },
  {
   "cell_type": "code",
   "execution_count": 33,
   "id": "cef495f9",
   "metadata": {},
   "outputs": [
    {
     "name": "stdout",
     "output_type": "stream",
     "text": [
      "[[1.00000000e+000 7.18155097e-073 6.45672837e-090]\n",
      " [1.00000000e+000 5.02297245e-082 1.11684651e-094]\n",
      " [1.00000000e+000 2.84327503e-091 1.42907882e-096]\n",
      " ...\n",
      " [9.99876119e-001 1.23881019e-004 2.81931640e-064]\n",
      " [1.40890771e-130 1.00000000e+000 3.05621011e-149]\n",
      " [1.09618150e-126 1.00000000e+000 2.66918730e-147]]\n"
     ]
    }
   ],
   "source": [
    "train_preds = predict(X_Train.T, w, b)"
   ]
  },
  {
   "cell_type": "code",
   "execution_count": null,
   "id": "a77ff334",
   "metadata": {},
   "outputs": [],
   "source": []
  },
  {
   "cell_type": "code",
   "execution_count": null,
   "id": "0237b830",
   "metadata": {},
   "outputs": [],
   "source": []
  }
 ],
 "metadata": {
  "kernelspec": {
   "display_name": "Python 3",
   "language": "python",
   "name": "python3"
  },
  "language_info": {
   "codemirror_mode": {
    "name": "ipython",
    "version": 3
   },
   "file_extension": ".py",
   "mimetype": "text/x-python",
   "name": "python",
   "nbconvert_exporter": "python",
   "pygments_lexer": "ipython3",
   "version": "3.8.8"
  }
 },
 "nbformat": 4,
 "nbformat_minor": 5
}
